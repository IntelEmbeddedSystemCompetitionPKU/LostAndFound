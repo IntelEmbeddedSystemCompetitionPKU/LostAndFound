{
 "cells": [
  {
   "cell_type": "code",
   "execution_count": 9,
   "metadata": {},
   "outputs": [
    {
     "name": "stdout",
     "output_type": "stream",
     "text": [
      "1\n",
      "2\n",
      "3\n",
      "4\n"
     ]
    },
    {
     "ename": "NameError",
     "evalue": "name 'error' is not defined",
     "output_type": "error",
     "traceback": [
      "\u001b[0;31m---------------------------------------------------------------------------\u001b[0m",
      "\u001b[0;31mNameError\u001b[0m                                 Traceback (most recent call last)",
      "\u001b[0;32m<ipython-input-9-f3dd9d459aec>\u001b[0m in \u001b[0;36m<module>\u001b[0;34m()\u001b[0m\n\u001b[1;32m     21\u001b[0m         \u001b[0;32mtry\u001b[0m\u001b[0;34m:\u001b[0m\u001b[0;34m\u001b[0m\u001b[0m\n\u001b[1;32m     22\u001b[0m             \u001b[0mimg\u001b[0m \u001b[0;34m=\u001b[0m \u001b[0mcv2\u001b[0m\u001b[0;34m.\u001b[0m\u001b[0mresize\u001b[0m\u001b[0;34m(\u001b[0m\u001b[0mimg\u001b[0m\u001b[0;34m,\u001b[0m \u001b[0;34m(\u001b[0m\u001b[0;36m224\u001b[0m\u001b[0;34m,\u001b[0m \u001b[0;36m224\u001b[0m\u001b[0;34m)\u001b[0m\u001b[0;34m)\u001b[0m\u001b[0;34m\u001b[0m\u001b[0m\n\u001b[0;32m---> 23\u001b[0;31m         \u001b[0;32mexcept\u001b[0m \u001b[0merror\u001b[0m\u001b[0;34m:\u001b[0m\u001b[0;34m\u001b[0m\u001b[0m\n\u001b[0m\u001b[1;32m     24\u001b[0m             \u001b[0;32mcontinue\u001b[0m\u001b[0;34m\u001b[0m\u001b[0m\n\u001b[1;32m     25\u001b[0m         \u001b[0;32mif\u001b[0m\u001b[0;34m(\u001b[0m\u001b[0mcount\u001b[0m \u001b[0;34m<\u001b[0m \u001b[0;36m100\u001b[0m\u001b[0;34m)\u001b[0m\u001b[0;34m:\u001b[0m\u001b[0;34m\u001b[0m\u001b[0m\n",
      "\u001b[0;31mNameError\u001b[0m: name 'error' is not defined"
     ]
    }
   ],
   "source": [
    "import numpy as np\n",
    "import cv2 \n",
    "import os\n",
    "import uuid\n",
    "\n",
    "srcdir = 'other/'\n",
    "traindir = srcdir + 'train/'\n",
    "testdir = srcdir + 'test/'\n",
    "try:\n",
    "    os.mkdir(traindir)\n",
    "except OSError:\n",
    "    count = 0\n",
    "try:\n",
    "    os.mkdir(testdir)\n",
    "except OSError:\n",
    "    count = 0\n",
    "count = 0\n",
    "for root, dirs, files in os.walk(srcdir):\n",
    "    for filename in files:\n",
    "        print(str(count) + '  ' + filename)\n",
    "        img = cv2.imread(srcdir + filename)\n",
    "        img = cv2.resize(img, (224, 224))\n",
    "        except error:\n",
    "        if(count < 100):\n",
    "            tardir = traindir\n",
    "        else:\n",
    "            tardir = testdir\n",
    "        cv2.imwrite(str(uuid.uuid1()) + '.jpg', img)\n",
    "        cv2.imwrite(tardir + str(uuid.uuid1()) + '.jpg', cv2.flip(img,0))\n",
    "        cv2.imwrite(tardir + str(uuid.uuid1()) + '.jpg', cv2.flip(img,1))\n",
    "        zitter = np.zeros_like(img)\n",
    "        for i in range(3):\n",
    "            zitter[:,:,i] = np.random.randint(0,50,(224, 224))\n",
    "        cv2.imwrite(tardir + str(uuid.uuid1()) + '.jpg', cv2.add(img, zitter))\n",
    "        count += 1\n",
    "        os.remove(srcdir + filename)\n",
    "        print count"
   ]
  },
  {
   "cell_type": "code",
   "execution_count": null,
   "metadata": {},
   "outputs": [],
   "source": []
  }
 ],
 "metadata": {
  "kernelspec": {
   "display_name": "Python 2",
   "language": "python",
   "name": "python2"
  },
  "language_info": {
   "codemirror_mode": {
    "name": "ipython",
    "version": 2
   },
   "file_extension": ".py",
   "mimetype": "text/x-python",
   "name": "python",
   "nbconvert_exporter": "python",
   "pygments_lexer": "ipython2",
   "version": "2.7.12"
  }
 },
 "nbformat": 4,
 "nbformat_minor": 2
}
