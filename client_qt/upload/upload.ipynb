{
 "cells": [
  {
   "cell_type": "code",
   "execution_count": 29,
   "metadata": {},
   "outputs": [
    {
     "name": "stdout",
     "output_type": "stream",
     "text": [
      "<!DOCTYPE HTML PUBLIC \"-//W3C//DTD HTML 3.2 Final//EN\">\n",
      "<title>404 Not Found</title>\n",
      "<h1>Not Found</h1>\n",
      "<p>The requested URL was not found on the server.  If you entered the URL manually please check your spelling and try again.</p>\n",
      "\n"
     ]
    }
   ],
   "source": [
    "import json\n",
    "import os\n",
    "import argparse\n",
    "import time\n",
    "import requests\n",
    "\n",
    "parser = argparse.ArgumentParser()\n",
    "parser.add_argument('-test', type=bool,required=False,default=True)\n",
    "#parser.add_argument('-dir', type=string, required=true)\n",
    "#args = parser.parse_args()\n",
    "uuid = 'test-uuid'\n",
    "\n",
    "with open('config.txt', 'r') as f:\n",
    "    data = json.load(f)\n",
    "if(not data.has_key('ip')):\n",
    "    data['ip'] = '10.127.171..75'\n",
    "if(not data.has_key('port')):\n",
    "    data['port'] = '22'\n",
    "\n",
    "base_url = 'http://httpbin.org/upload/' #default test server\n",
    "#if(not args.test):\n",
    "if(False):\n",
    "    base_url = 'http://' + data['ip'] + ':' + data['port'] + '/upload/'\n",
    "# step1 upload basic item information\n",
    "desc_url = base_url + 'description'\n",
    "body = {'uuid':uuid,\n",
    "        'time':time.asctime( time.localtime(time.time()))}\n",
    "response = requests.post(desc_url, data=json.dumps(body))\n",
    "print(response.text)\n",
    "\n",
    "# step2 upload ld photos\n",
    "ld_url = base_url + 'LD'\n",
    "for root, dirs, files in os.walk('./LD')\n",
    "    with open(os.path.join(root, files),'rb') as f:\n",
    "        body = {'uuid':uuid,\n",
    "               'LD':f}\n",
    "        response = requests.post(ld_url, json=body)\n",
    "        print(response.text)\n",
    "\n",
    "# step3 upload hd photos\n",
    "hd_url = base_url + 'HD'\n",
    "for root, dirs, files in os.walk('./LD')\n",
    "    with open(os.path.join(root, files),'rb') as f:\n",
    "        body = {'uuid':uuid,\n",
    "               'HD':f}\n",
    "        response = requests.post(hd_url, json=body)\n",
    "        print(response.text)\n",
    "\n",
    "# step4 upload mask photos\n",
    "############################### \n",
    "#could it be possible to upload blanks at the same time?\n",
    "###############################\n",
    "mask_url = base_url + 'mask'\n",
    "for root, dirs, files in os.walk('./mask')\n",
    "    with open(os.path.join(root, files),'rb') as f:\n",
    "        body = {'uuid':uuid,\n",
    "               'mask':f}\n",
    "        response = requests.post(mask_url, json=body)\n",
    "        print(response.text)\n",
    "\n",
    "        \n",
    "# step5 upload fetch phots\n",
    "fetch_url = base_url + 'fetch'\n",
    "for root, dirs, files in os.walk('./fecth')\n",
    "    with open(os.path.join(root, files),'rb') as f:\n",
    "        body = {'uuid':uuid,\n",
    "               'fetch':f}\n",
    "        response = requests.post(ld_url, json=body)\n",
    "        print(response.text)\n"
   ]
  },
  {
   "cell_type": "code",
   "execution_count": null,
   "metadata": {},
   "outputs": [],
   "source": []
  }
 ],
 "metadata": {
  "kernelspec": {
   "display_name": "Python 2",
   "language": "python",
   "name": "python2"
  },
  "language_info": {
   "codemirror_mode": {
    "name": "ipython",
    "version": 2
   },
   "file_extension": ".py",
   "mimetype": "text/x-python",
   "name": "python",
   "nbconvert_exporter": "python",
   "pygments_lexer": "ipython2",
   "version": "2.7.12"
  }
 },
 "nbformat": 4,
 "nbformat_minor": 2
}
