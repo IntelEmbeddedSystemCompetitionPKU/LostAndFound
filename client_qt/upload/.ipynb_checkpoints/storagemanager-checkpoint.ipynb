{
 "cells": [
  {
   "cell_type": "code",
   "execution_count": 16,
   "metadata": {},
   "outputs": [],
   "source": [
    "import json\n",
    "import os\n",
    "import numpy as np\n",
    "\n",
    "configdir = './storage.config'\n",
    "# incase there isn't config file at all\n",
    "def init_config():\n",
    "    if not os.path.exists(configdir):\n",
    "        try:\n",
    "            os.mkdir(os.path.split(configdir)[0])\n",
    "        except OSError:\n",
    "            print('config dir exists')\n",
    "        with open(configdir, 'w') as f:\n",
    "                config_dict = {'logdir':'./storage/log.json'}\n",
    "                json.dump(config_dict, f)\n"
   ]
  },
  {
   "cell_type": "code",
   "execution_count": 20,
   "metadata": {},
   "outputs": [],
   "source": [
    "def load_config():\n",
    "    init_config()\n",
    "    with open(configdir) as f:\n",
    "        config = json.load(f)\n",
    "    return config"
   ]
  },
  {
   "cell_type": "code",
   "execution_count": 21,
   "metadata": {},
   "outputs": [],
   "source": [
    "# incase there isn't log file at all\n",
    "def init_log():\n",
    "    logdir = load_config()\n",
    "    logdir = logdir['logdir']\n",
    "    if not os.path.exists(logdir):\n",
    "        try:\n",
    "            os.mkdir(os.path.split(logdir)[0])\n",
    "        except:\n",
    "            print('log dir exists')\n",
    "        with open(logdir, 'w') as f:\n",
    "            log_dict = {'max_num':20}\n",
    "            json.dump(log_dict, f)"
   ]
  },
  {
   "cell_type": "code",
   "execution_count": 42,
   "metadata": {},
   "outputs": [],
   "source": [
    "def load_log():\n",
    "    init_log()\n",
    "    logdir = load_config()\n",
    "    with open(logdir['logdir']) as f:\n",
    "        log = json.load(f)\n",
    "    return log\n",
    "\n",
    "def save_log(input_dict):\n",
    "    init_log()\n",
    "    logdir = load_config()\n",
    "    with open(logdir['logdir'], 'w') as f:\n",
    "        json.dump(input_dict, f)"
   ]
  },
  {
   "cell_type": "code",
   "execution_count": 43,
   "metadata": {},
   "outputs": [],
   "source": [
    "# main interface for saving item\n",
    "# return a number for the free loaction, -1 means no space\n",
    "def save_item(inputuuid):\n",
    "    log = load_log()\n",
    "    if len(log) > log['max_num']:\n",
    "        return -1\n",
    "    else:\n",
    "        bitmap = np.zeros(log['max_num'] + 1)\n",
    "        for key in log.keys():\n",
    "            bitmap[log[key]] = 1\n",
    "        for i in range(log['max_num']):\n",
    "            if bitmap[i] == 0:\n",
    "                log[inputuuid] = i\n",
    "                save_log(log)\n",
    "                return i"
   ]
  },
  {
   "cell_type": "code",
   "execution_count": 44,
   "metadata": {},
   "outputs": [],
   "source": [
    "# main interface for removing item from log file\n",
    "# return location for existing item, -1 for null\n",
    "def remove_item(inputuuid):\n",
    "    log = load_log()\n",
    "    if inputuuid in log:\n",
    "        location = log[inputuuid]\n",
    "        log.pop(inputuuid)\n",
    "        save_log(log)\n",
    "        return location\n",
    "    return False"
   ]
  },
  {
   "cell_type": "code",
   "execution_count": 47,
   "metadata": {},
   "outputs": [
    {
     "data": {
      "text/plain": [
       "False"
      ]
     },
     "execution_count": 47,
     "metadata": {},
     "output_type": "execute_result"
    }
   ],
   "source": [
    "remove_item(156)"
   ]
  },
  {
   "cell_type": "code",
   "execution_count": null,
   "metadata": {},
   "outputs": [],
   "source": []
  }
 ],
 "metadata": {
  "kernelspec": {
   "display_name": "Python 2",
   "language": "python",
   "name": "python2"
  },
  "language_info": {
   "codemirror_mode": {
    "name": "ipython",
    "version": 2
   },
   "file_extension": ".py",
   "mimetype": "text/x-python",
   "name": "python",
   "nbconvert_exporter": "python",
   "pygments_lexer": "ipython2",
   "version": "2.7.12"
  }
 },
 "nbformat": 4,
 "nbformat_minor": 2
}
