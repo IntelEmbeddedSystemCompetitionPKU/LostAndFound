{
 "cells": [
  {
   "cell_type": "code",
   "execution_count": 3,
   "metadata": {},
   "outputs": [],
   "source": [
    "import json\n",
    "import os\n",
    "#import stroagemanager\n",
    "#import gpio\n",
    "#import upload\n",
    "import time\n",
    "\n",
    "def isexist(uuid):\n",
    "    return tuple((0)) # 0 = true\n",
    "\n",
    "def isface(uuid):\n",
    "    return tuple((0)) # 0 = true\n",
    "\n",
    "def classify(uuid, number):\n",
    "    for root, dirs, files in os.walk('~/workspace/data/'):\n",
    "        for filename in files:\n",
    "            print(filename)\n",
    "            if str(number) in files:\n",
    "                os.rename(root + files, root + str(number) + '.jpg')\n",
    "                break\n",
    "    #time.sleep(2)\n",
    "    return\n",
    "\n",
    "def loadresult(uuid, number):\n",
    "    return tuple((str(\"testing\")))\n",
    "\n",
    "def save(uuid):\n",
    "    return\n",
    "\n",
    "def load(uuid):\n",
    "    return\n",
    "\n",
    "def refresh(uuid, number):\n",
    "    return\n",
    "\n",
    "def uploadMark(uuid, desc):\n",
    "    return\n",
    "\n",
    "def uploadPicker(uuid, desc):\n",
    "    return "
   ]
  },
  {
   "cell_type": "code",
   "execution_count": 4,
   "metadata": {},
   "outputs": [],
   "source": [
    "classify('bef92accbc9d4dd5aecf2d596769e086',1)"
   ]
  },
  {
   "cell_type": "code",
   "execution_count": null,
   "metadata": {},
   "outputs": [],
   "source": []
  }
 ],
 "metadata": {
  "kernelspec": {
   "display_name": "Python 2",
   "language": "python",
   "name": "python2"
  },
  "language_info": {
   "codemirror_mode": {
    "name": "ipython",
    "version": 2
   },
   "file_extension": ".py",
   "mimetype": "text/x-python",
   "name": "python",
   "nbconvert_exporter": "python",
   "pygments_lexer": "ipython2",
   "version": "2.7.12"
  }
 },
 "nbformat": 4,
 "nbformat_minor": 2
}
